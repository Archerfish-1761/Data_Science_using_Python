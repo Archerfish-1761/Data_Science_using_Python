{
 "cells": [
  {
   "cell_type": "markdown",
   "id": "24304e1e",
   "metadata": {},
   "source": [
    "## Day 2"
   ]
  },
  {
   "cell_type": "markdown",
   "id": "c76987e3",
   "metadata": {},
   "source": [
    "## Mean"
   ]
  },
  {
   "cell_type": "code",
   "execution_count": 1,
   "id": "6a5a74fd",
   "metadata": {},
   "outputs": [],
   "source": [
    "import numpy as np"
   ]
  },
  {
   "cell_type": "code",
   "execution_count": 2,
   "id": "af0ccf8d",
   "metadata": {},
   "outputs": [],
   "source": [
    "num = np.array([23,11,56,74,19,53,25])"
   ]
  },
  {
   "cell_type": "code",
   "execution_count": 3,
   "id": "d95e04b9",
   "metadata": {},
   "outputs": [
    {
     "data": {
      "text/plain": [
       "37.285714285714285"
      ]
     },
     "execution_count": 3,
     "metadata": {},
     "output_type": "execute_result"
    }
   ],
   "source": [
    "num.mean()"
   ]
  },
  {
   "cell_type": "code",
   "execution_count": 4,
   "id": "c6042ef1",
   "metadata": {},
   "outputs": [
    {
     "data": {
      "text/plain": [
       "37"
      ]
     },
     "execution_count": 4,
     "metadata": {},
     "output_type": "execute_result"
    }
   ],
   "source": [
    "sum(num)//len(num)  ##Formula for mean"
   ]
  },
  {
   "cell_type": "markdown",
   "id": "5aa55e10",
   "metadata": {},
   "source": [
    "## Median"
   ]
  },
  {
   "cell_type": "code",
   "execution_count": 17,
   "id": "929fdf8f",
   "metadata": {},
   "outputs": [],
   "source": [
    "from statistics import mean, median, mode "
   ]
  },
  {
   "cell_type": "code",
   "execution_count": 6,
   "id": "f01c8dca",
   "metadata": {},
   "outputs": [
    {
     "data": {
      "text/plain": [
       "25"
      ]
     },
     "execution_count": 6,
     "metadata": {},
     "output_type": "execute_result"
    }
   ],
   "source": [
    "median(num)"
   ]
  },
  {
   "cell_type": "code",
   "execution_count": 15,
   "id": "d5125708",
   "metadata": {},
   "outputs": [],
   "source": [
    "x = np.arange(1,91)"
   ]
  },
  {
   "cell_type": "code",
   "execution_count": 11,
   "id": "df7f2a6d",
   "metadata": {},
   "outputs": [
    {
     "data": {
      "text/plain": [
       "array([ 1,  2,  3,  4,  5,  6,  7,  8,  9, 10, 11, 12, 13, 14, 15, 16, 17,\n",
       "       18, 19, 20, 21, 22, 23, 24, 25, 26, 27, 28, 29, 30, 31, 32, 33, 34,\n",
       "       35, 36, 37, 38, 39, 40, 41, 42, 43, 44, 45, 46, 47, 48, 49, 50, 51,\n",
       "       52, 53, 54, 55, 56, 57, 58, 59, 60, 61, 62, 63, 64, 65, 66, 67, 68,\n",
       "       69, 70, 71, 72, 73, 74, 75, 76, 77, 78, 79, 80, 81, 82, 83, 84, 85,\n",
       "       86, 87, 88, 89, 90])"
      ]
     },
     "execution_count": 11,
     "metadata": {},
     "output_type": "execute_result"
    }
   ],
   "source": [
    "x"
   ]
  },
  {
   "cell_type": "code",
   "execution_count": 13,
   "id": "340e0a2d",
   "metadata": {},
   "outputs": [
    {
     "data": {
      "text/plain": [
       "45.5"
      ]
     },
     "execution_count": 13,
     "metadata": {},
     "output_type": "execute_result"
    }
   ],
   "source": [
    "np.mean(x)   ## mean and median can be same "
   ]
  },
  {
   "cell_type": "code",
   "execution_count": 14,
   "id": "ae509cdd",
   "metadata": {
    "scrolled": true
   },
   "outputs": [
    {
     "data": {
      "text/plain": [
       "45.5"
      ]
     },
     "execution_count": 14,
     "metadata": {},
     "output_type": "execute_result"
    }
   ],
   "source": [
    "np.median(x)"
   ]
  },
  {
   "cell_type": "markdown",
   "id": "a97fd2c8",
   "metadata": {},
   "source": [
    "## Mode"
   ]
  },
  {
   "cell_type": "code",
   "execution_count": 18,
   "id": "7469be8b",
   "metadata": {},
   "outputs": [
    {
     "data": {
      "text/plain": [
       "1"
      ]
     },
     "execution_count": 18,
     "metadata": {},
     "output_type": "execute_result"
    }
   ],
   "source": [
    "mode(x)  ##3 types of mode - Unimodal, Bimodal, multimodal, applicable to stringdata and numberdata"
   ]
  },
  {
   "cell_type": "code",
   "execution_count": 19,
   "id": "65351c3d",
   "metadata": {},
   "outputs": [],
   "source": [
    "import pandas as pd"
   ]
  },
  {
   "cell_type": "code",
   "execution_count": 25,
   "id": "76853491",
   "metadata": {},
   "outputs": [],
   "source": [
    "gender = pd.Series(['M','F','F','M','F','M','F','M','M','M'])"
   ]
  },
  {
   "cell_type": "markdown",
   "id": "e63d4864",
   "metadata": {},
   "source": [
    "## Value_Counts"
   ]
  },
  {
   "cell_type": "code",
   "execution_count": 26,
   "id": "612fb891",
   "metadata": {},
   "outputs": [
    {
     "data": {
      "text/plain": [
       "M    6\n",
       "F    4\n",
       "dtype: int64"
      ]
     },
     "execution_count": 26,
     "metadata": {},
     "output_type": "execute_result"
    }
   ],
   "source": [
    "gender.value_counts()"
   ]
  },
  {
   "cell_type": "code",
   "execution_count": 27,
   "id": "c29a879b",
   "metadata": {},
   "outputs": [
    {
     "data": {
      "text/plain": [
       "0    M\n",
       "dtype: object"
      ]
     },
     "execution_count": 27,
     "metadata": {},
     "output_type": "execute_result"
    }
   ],
   "source": [
    "gender.mode()"
   ]
  },
  {
   "cell_type": "code",
   "execution_count": 28,
   "id": "51761bfa",
   "metadata": {},
   "outputs": [],
   "source": [
    "age = pd.Series([22,21,20,20,21,21,20,22,23,21,20])"
   ]
  },
  {
   "cell_type": "code",
   "execution_count": 30,
   "id": "b7f17600",
   "metadata": {},
   "outputs": [
    {
     "data": {
      "text/plain": [
       "21    4\n",
       "20    4\n",
       "22    2\n",
       "23    1\n",
       "dtype: int64"
      ]
     },
     "execution_count": 30,
     "metadata": {},
     "output_type": "execute_result"
    }
   ],
   "source": [
    "age.value_counts()"
   ]
  },
  {
   "cell_type": "code",
   "execution_count": 31,
   "id": "55b42f23",
   "metadata": {},
   "outputs": [
    {
     "data": {
      "text/plain": [
       "0    20\n",
       "1    21\n",
       "dtype: int64"
      ]
     },
     "execution_count": 31,
     "metadata": {},
     "output_type": "execute_result"
    }
   ],
   "source": [
    "age.mode()"
   ]
  },
  {
   "cell_type": "markdown",
   "id": "3efc52d6",
   "metadata": {},
   "source": [
    "## Midrange "
   ]
  },
  {
   "cell_type": "code",
   "execution_count": 33,
   "id": "5c73117e",
   "metadata": {},
   "outputs": [
    {
     "data": {
      "text/plain": [
       "42.5"
      ]
     },
     "execution_count": 33,
     "metadata": {},
     "output_type": "execute_result"
    }
   ],
   "source": [
    "(num.max() + num.min())/2"
   ]
  },
  {
   "cell_type": "markdown",
   "id": "6502a257",
   "metadata": {},
   "source": [
    "## Mean Absolute Deviation(MAD)"
   ]
  },
  {
   "cell_type": "code",
   "execution_count": 37,
   "id": "2e045296",
   "metadata": {},
   "outputs": [
    {
     "data": {
      "text/plain": [
       "20.3265306122449"
      ]
     },
     "execution_count": 37,
     "metadata": {},
     "output_type": "execute_result"
    }
   ],
   "source": [
    "sum(abs(num - np.mean(num))) / len(num)  ## if all are same then answer is zero"
   ]
  },
  {
   "cell_type": "code",
   "execution_count": 38,
   "id": "4df5bdff",
   "metadata": {},
   "outputs": [],
   "source": [
    "x = np.ones(10)+20"
   ]
  },
  {
   "cell_type": "code",
   "execution_count": 39,
   "id": "c17c5952",
   "metadata": {},
   "outputs": [
    {
     "data": {
      "text/plain": [
       "array([21., 21., 21., 21., 21., 21., 21., 21., 21., 21.])"
      ]
     },
     "execution_count": 39,
     "metadata": {},
     "output_type": "execute_result"
    }
   ],
   "source": [
    "x"
   ]
  },
  {
   "cell_type": "code",
   "execution_count": 40,
   "id": "0728fad9",
   "metadata": {},
   "outputs": [
    {
     "data": {
      "text/plain": [
       "0.0"
      ]
     },
     "execution_count": 40,
     "metadata": {},
     "output_type": "execute_result"
    }
   ],
   "source": [
    "sum(abs(x-np.mean(x)))/len(x)"
   ]
  },
  {
   "cell_type": "markdown",
   "id": "ea8f467b",
   "metadata": {},
   "source": [
    "## Variance"
   ]
  },
  {
   "cell_type": "code",
   "execution_count": 43,
   "id": "c4f21ef7",
   "metadata": {},
   "outputs": [
    {
     "data": {
      "text/plain": [
       "475.06122448979596"
      ]
     },
     "execution_count": 43,
     "metadata": {},
     "output_type": "execute_result"
    }
   ],
   "source": [
    "np.mean((num-np.mean(num))**2)"
   ]
  },
  {
   "cell_type": "code",
   "execution_count": 45,
   "id": "9015d50c",
   "metadata": {},
   "outputs": [
    {
     "data": {
      "text/plain": [
       "475.06122448979596"
      ]
     },
     "execution_count": 45,
     "metadata": {},
     "output_type": "execute_result"
    }
   ],
   "source": [
    "num.var()"
   ]
  },
  {
   "cell_type": "markdown",
   "id": "5d4d4261",
   "metadata": {},
   "source": [
    "## Standard Deviation"
   ]
  },
  {
   "cell_type": "code",
   "execution_count": 50,
   "id": "48a8f0c8",
   "metadata": {},
   "outputs": [
    {
     "data": {
      "text/plain": [
       "21.79589925857146"
      ]
     },
     "execution_count": 50,
     "metadata": {},
     "output_type": "execute_result"
    }
   ],
   "source": [
    "np.sqrt(np.mean((num - np.mean(num))**2))"
   ]
  },
  {
   "cell_type": "code",
   "execution_count": 49,
   "id": "ad844d2f",
   "metadata": {},
   "outputs": [
    {
     "data": {
      "text/plain": [
       "21.79589925857146"
      ]
     },
     "execution_count": 49,
     "metadata": {},
     "output_type": "execute_result"
    }
   ],
   "source": [
    "num.std()"
   ]
  },
  {
   "cell_type": "code",
   "execution_count": 51,
   "id": "57a66079",
   "metadata": {},
   "outputs": [
    {
     "data": {
      "text/plain": [
       "21.79589925857146"
      ]
     },
     "execution_count": 51,
     "metadata": {},
     "output_type": "execute_result"
    }
   ],
   "source": [
    "np.std(num)"
   ]
  },
  {
   "cell_type": "markdown",
   "id": "3a957e9e",
   "metadata": {},
   "source": [
    "## Range = Max - Min"
   ]
  },
  {
   "cell_type": "markdown",
   "id": "10752b86",
   "metadata": {},
   "source": [
    "## Data Operations"
   ]
  },
  {
   "cell_type": "code",
   "execution_count": 52,
   "id": "863caa1c",
   "metadata": {},
   "outputs": [],
   "source": [
    "# Location : https://mitu.co.in/dataset\n",
    "#Download all student files and store in current working directory "
   ]
  },
  {
   "cell_type": "code",
   "execution_count": 53,
   "id": "7debb90f",
   "metadata": {},
   "outputs": [],
   "source": [
    "## http://mitu.co.in/survey\n"
   ]
  },
  {
   "cell_type": "code",
   "execution_count": null,
   "id": "e2b16fc3",
   "metadata": {},
   "outputs": [],
   "source": []
  }
 ],
 "metadata": {
  "kernelspec": {
   "display_name": "Python 3 (ipykernel)",
   "language": "python",
   "name": "python3"
  },
  "language_info": {
   "codemirror_mode": {
    "name": "ipython",
    "version": 3
   },
   "file_extension": ".py",
   "mimetype": "text/x-python",
   "name": "python",
   "nbconvert_exporter": "python",
   "pygments_lexer": "ipython3",
   "version": "3.10.9"
  }
 },
 "nbformat": 4,
 "nbformat_minor": 5
}
